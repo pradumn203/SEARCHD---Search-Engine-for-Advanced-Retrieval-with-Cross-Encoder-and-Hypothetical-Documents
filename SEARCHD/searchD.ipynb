{
 "cells": [
  {
   "cell_type": "code",
   "execution_count": 1,
   "metadata": {},
   "outputs": [],
   "source": [
    "import pandas as pd\n",
    "import os\n",
    "from dotenv import load_dotenv\n",
    "import ast\n",
    "import sys\n",
    "sys.path.insert(0, os.path.abspath(\"..\"))\n",
    "from LLM_Backend.LLM_Backend_Normal import ChatBackend\n",
    "import warnings\n",
    "warnings.filterwarnings(\"ignore\")"
   ]
  },
  {
   "cell_type": "code",
   "execution_count": 2,
   "metadata": {},
   "outputs": [
    {
     "data": {
      "text/html": [
       "<div>\n",
       "<style scoped>\n",
       "    .dataframe tbody tr th:only-of-type {\n",
       "        vertical-align: middle;\n",
       "    }\n",
       "\n",
       "    .dataframe tbody tr th {\n",
       "        vertical-align: top;\n",
       "    }\n",
       "\n",
       "    .dataframe thead th {\n",
       "        text-align: right;\n",
       "    }\n",
       "</style>\n",
       "<table border=\"1\" class=\"dataframe\">\n",
       "  <thead>\n",
       "    <tr style=\"text-align: right;\">\n",
       "      <th></th>\n",
       "      <th>question</th>\n",
       "      <th>ground_truths</th>\n",
       "    </tr>\n",
       "  </thead>\n",
       "  <tbody>\n",
       "    <tr>\n",
       "      <th>0</th>\n",
       "      <td>walgreens store sales average</td>\n",
       "      <td>['Approximately $15,000 per year.']</td>\n",
       "    </tr>\n",
       "    <tr>\n",
       "      <th>1</th>\n",
       "      <td>how much do bartenders make</td>\n",
       "      <td>['$21,550 per year'\\n 'The average hourly wage...</td>\n",
       "    </tr>\n",
       "    <tr>\n",
       "      <th>2</th>\n",
       "      <td>what is a furuncle boil</td>\n",
       "      <td>['A boil, also called a furuncle, is a deep fo...</td>\n",
       "    </tr>\n",
       "    <tr>\n",
       "      <th>3</th>\n",
       "      <td>what can urinalysis detect</td>\n",
       "      <td>['Detect and assess a wide range of disorders,...</td>\n",
       "    </tr>\n",
       "    <tr>\n",
       "      <th>4</th>\n",
       "      <td>what is vitamin a used for</td>\n",
       "      <td>['Shigellosis, diseases of the nervous system,...</td>\n",
       "    </tr>\n",
       "  </tbody>\n",
       "</table>\n",
       "</div>"
      ],
      "text/plain": [
       "                        question  \\\n",
       "0  walgreens store sales average   \n",
       "1    how much do bartenders make   \n",
       "2        what is a furuncle boil   \n",
       "3     what can urinalysis detect   \n",
       "4     what is vitamin a used for   \n",
       "\n",
       "                                       ground_truths  \n",
       "0                ['Approximately $15,000 per year.']  \n",
       "1  ['$21,550 per year'\\n 'The average hourly wage...  \n",
       "2  ['A boil, also called a furuncle, is a deep fo...  \n",
       "3  ['Detect and assess a wide range of disorders,...  \n",
       "4  ['Shigellosis, diseases of the nervous system,...  "
      ]
     },
     "execution_count": 2,
     "metadata": {},
     "output_type": "execute_result"
    }
   ],
   "source": [
    "df = pd.read_csv('../data/ms-marco-200-rows.csv')\n",
    "df = df[['question', 'ground_truths']]\n",
    "df.head()"
   ]
  },
  {
   "cell_type": "code",
   "execution_count": 3,
   "metadata": {},
   "outputs": [],
   "source": [
    "backend = ChatBackend(genai_model = \"thebloke/mixtral-8x7b-instruct-v0-1-gptq\")"
   ]
  },
  {
   "cell_type": "code",
   "execution_count": 6,
   "metadata": {},
   "outputs": [
    {
     "name": "stdout",
     "output_type": "stream",
     "text": [
      "CPU times: user 6.61 s, sys: 750 ms, total: 7.36 s\n",
      "Wall time: 18min\n"
     ]
    },
    {
     "data": {
      "text/html": [
       "<div>\n",
       "<style scoped>\n",
       "    .dataframe tbody tr th:only-of-type {\n",
       "        vertical-align: middle;\n",
       "    }\n",
       "\n",
       "    .dataframe tbody tr th {\n",
       "        vertical-align: top;\n",
       "    }\n",
       "\n",
       "    .dataframe thead th {\n",
       "        text-align: right;\n",
       "    }\n",
       "</style>\n",
       "<table border=\"1\" class=\"dataframe\">\n",
       "  <thead>\n",
       "    <tr style=\"text-align: right;\">\n",
       "      <th></th>\n",
       "      <th>question</th>\n",
       "      <th>ground_truths</th>\n",
       "      <th>hypothetical_answer</th>\n",
       "    </tr>\n",
       "  </thead>\n",
       "  <tbody>\n",
       "    <tr>\n",
       "      <th>0</th>\n",
       "      <td>walgreens store sales average</td>\n",
       "      <td>['Approximately $15,000 per year.']</td>\n",
       "      <td>The average sales for Walgreens stores vary, a...</td>\n",
       "    </tr>\n",
       "    <tr>\n",
       "      <th>1</th>\n",
       "      <td>how much do bartenders make</td>\n",
       "      <td>['$21,550 per year'\\n 'The average hourly wage...</td>\n",
       "      <td>On average, bartenders in the US make about $1...</td>\n",
       "    </tr>\n",
       "    <tr>\n",
       "      <th>2</th>\n",
       "      <td>what is a furuncle boil</td>\n",
       "      <td>['A boil, also called a furuncle, is a deep fo...</td>\n",
       "      <td>A furuncle, also known as a boil, is a skin in...</td>\n",
       "    </tr>\n",
       "    <tr>\n",
       "      <th>3</th>\n",
       "      <td>what can urinalysis detect</td>\n",
       "      <td>['Detect and assess a wide range of disorders,...</td>\n",
       "      <td>Urinalysis can detect various substances in ur...</td>\n",
       "    </tr>\n",
       "    <tr>\n",
       "      <th>4</th>\n",
       "      <td>what is vitamin a used for</td>\n",
       "      <td>['Shigellosis, diseases of the nervous system,...</td>\n",
       "      <td>Vitamin A is essential for maintaining healthy...</td>\n",
       "    </tr>\n",
       "  </tbody>\n",
       "</table>\n",
       "</div>"
      ],
      "text/plain": [
       "                        question  \\\n",
       "0  walgreens store sales average   \n",
       "1    how much do bartenders make   \n",
       "2        what is a furuncle boil   \n",
       "3     what can urinalysis detect   \n",
       "4     what is vitamin a used for   \n",
       "\n",
       "                                       ground_truths  \\\n",
       "0                ['Approximately $15,000 per year.']   \n",
       "1  ['$21,550 per year'\\n 'The average hourly wage...   \n",
       "2  ['A boil, also called a furuncle, is a deep fo...   \n",
       "3  ['Detect and assess a wide range of disorders,...   \n",
       "4  ['Shigellosis, diseases of the nervous system,...   \n",
       "\n",
       "                                 hypothetical_answer  \n",
       "0  The average sales for Walgreens stores vary, a...  \n",
       "1  On average, bartenders in the US make about $1...  \n",
       "2  A furuncle, also known as a boil, is a skin in...  \n",
       "3  Urinalysis can detect various substances in ur...  \n",
       "4  Vitamin A is essential for maintaining healthy...  "
      ]
     },
     "execution_count": 6,
     "metadata": {},
     "output_type": "execute_result"
    }
   ],
   "source": [
    "%%time\n",
    "df['hypothetical_answer'] = df['question'].apply(lambda x: backend.generate_hypothetical_answer(x).strip())\n",
    "df.head()"
   ]
  },
  {
   "cell_type": "code",
   "execution_count": 7,
   "metadata": {},
   "outputs": [],
   "source": [
    "df.to_csv(\"../output/hypothetical_answer.csv\", index = False)"
   ]
  },
  {
   "cell_type": "code",
   "execution_count": 4,
   "metadata": {},
   "outputs": [
    {
     "data": {
      "text/html": [
       "<div>\n",
       "<style scoped>\n",
       "    .dataframe tbody tr th:only-of-type {\n",
       "        vertical-align: middle;\n",
       "    }\n",
       "\n",
       "    .dataframe tbody tr th {\n",
       "        vertical-align: top;\n",
       "    }\n",
       "\n",
       "    .dataframe thead th {\n",
       "        text-align: right;\n",
       "    }\n",
       "</style>\n",
       "<table border=\"1\" class=\"dataframe\">\n",
       "  <thead>\n",
       "    <tr style=\"text-align: right;\">\n",
       "      <th></th>\n",
       "      <th>question</th>\n",
       "      <th>ground_truths</th>\n",
       "      <th>hypothetical_answer</th>\n",
       "    </tr>\n",
       "  </thead>\n",
       "  <tbody>\n",
       "    <tr>\n",
       "      <th>0</th>\n",
       "      <td>walgreens store sales average</td>\n",
       "      <td>['Approximately $15,000 per year.']</td>\n",
       "      <td>Walgreens reports an average quarterly sales g...</td>\n",
       "    </tr>\n",
       "    <tr>\n",
       "      <th>1</th>\n",
       "      <td>how much do bartenders make</td>\n",
       "      <td>['$21,550 per year'\\n 'The average hourly wage...</td>\n",
       "      <td>Bartenders' earnings vary widely, depending on...</td>\n",
       "    </tr>\n",
       "    <tr>\n",
       "      <th>2</th>\n",
       "      <td>what is a furuncle boil</td>\n",
       "      <td>['A boil, also called a furuncle, is a deep fo...</td>\n",
       "      <td>A furuncle, also known as a boil, is a bacteri...</td>\n",
       "    </tr>\n",
       "    <tr>\n",
       "      <th>3</th>\n",
       "      <td>what can urinalysis detect</td>\n",
       "      <td>['Detect and assess a wide range of disorders,...</td>\n",
       "      <td>Urinalysis can detect various substances like ...</td>\n",
       "    </tr>\n",
       "    <tr>\n",
       "      <th>4</th>\n",
       "      <td>what is vitamin a used for</td>\n",
       "      <td>['Shigellosis, diseases of the nervous system,...</td>\n",
       "      <td>Vitamin A is essential for maintaining good vi...</td>\n",
       "    </tr>\n",
       "  </tbody>\n",
       "</table>\n",
       "</div>"
      ],
      "text/plain": [
       "                        question  \\\n",
       "0  walgreens store sales average   \n",
       "1    how much do bartenders make   \n",
       "2        what is a furuncle boil   \n",
       "3     what can urinalysis detect   \n",
       "4     what is vitamin a used for   \n",
       "\n",
       "                                       ground_truths  \\\n",
       "0                ['Approximately $15,000 per year.']   \n",
       "1  ['$21,550 per year'\\n 'The average hourly wage...   \n",
       "2  ['A boil, also called a furuncle, is a deep fo...   \n",
       "3  ['Detect and assess a wide range of disorders,...   \n",
       "4  ['Shigellosis, diseases of the nervous system,...   \n",
       "\n",
       "                                 hypothetical_answer  \n",
       "0  Walgreens reports an average quarterly sales g...  \n",
       "1  Bartenders' earnings vary widely, depending on...  \n",
       "2  A furuncle, also known as a boil, is a bacteri...  \n",
       "3  Urinalysis can detect various substances like ...  \n",
       "4  Vitamin A is essential for maintaining good vi...  "
      ]
     },
     "execution_count": 4,
     "metadata": {},
     "output_type": "execute_result"
    }
   ],
   "source": [
    "df = pd.read_csv('../output/hypothetical_answer.csv')\n",
    "df.head()"
   ]
  },
  {
   "cell_type": "code",
   "execution_count": 8,
   "metadata": {},
   "outputs": [
    {
     "name": "stdout",
     "output_type": "stream",
     "text": [
      "CPU times: user 1min 14s, sys: 23.5 s, total: 1min 38s\n",
      "Wall time: 55 s\n"
     ]
    },
    {
     "data": {
      "text/html": [
       "<div>\n",
       "<style scoped>\n",
       "    .dataframe tbody tr th:only-of-type {\n",
       "        vertical-align: middle;\n",
       "    }\n",
       "\n",
       "    .dataframe tbody tr th {\n",
       "        vertical-align: top;\n",
       "    }\n",
       "\n",
       "    .dataframe thead th {\n",
       "        text-align: right;\n",
       "    }\n",
       "</style>\n",
       "<table border=\"1\" class=\"dataframe\">\n",
       "  <thead>\n",
       "    <tr style=\"text-align: right;\">\n",
       "      <th></th>\n",
       "      <th>question</th>\n",
       "      <th>ground_truths</th>\n",
       "      <th>hypothetical_answer</th>\n",
       "      <th>reranked_contexts</th>\n",
       "    </tr>\n",
       "  </thead>\n",
       "  <tbody>\n",
       "    <tr>\n",
       "      <th>0</th>\n",
       "      <td>walgreens store sales average</td>\n",
       "      <td>['Approximately $15,000 per year.']</td>\n",
       "      <td>The average sales for Walgreens stores vary, a...</td>\n",
       "      <td>[3 percent of sales, and returns on assets of ...</td>\n",
       "    </tr>\n",
       "    <tr>\n",
       "      <th>1</th>\n",
       "      <td>how much do bartenders make</td>\n",
       "      <td>['$21,550 per year'\\n 'The average hourly wage...</td>\n",
       "      <td>On average, bartenders in the US make about $1...</td>\n",
       "      <td>[to earn somewhat less, averaging about $22,13...</td>\n",
       "    </tr>\n",
       "    <tr>\n",
       "      <th>2</th>\n",
       "      <td>what is a furuncle boil</td>\n",
       "      <td>['A boil, also called a furuncle, is a deep fo...</td>\n",
       "      <td>A furuncle, also known as a boil, is a skin in...</td>\n",
       "      <td>[called a furuncle, is a deep folliculitis, in...</td>\n",
       "    </tr>\n",
       "    <tr>\n",
       "      <th>3</th>\n",
       "      <td>what can urinalysis detect</td>\n",
       "      <td>['Detect and assess a wide range of disorders,...</td>\n",
       "      <td>Urinalysis can detect various substances in ur...</td>\n",
       "      <td>[specimen cup. Usually only small amounts (30-...</td>\n",
       "    </tr>\n",
       "    <tr>\n",
       "      <th>4</th>\n",
       "      <td>what is vitamin a used for</td>\n",
       "      <td>['Shigellosis, diseases of the nervous system,...</td>\n",
       "      <td>Vitamin A is essential for maintaining healthy...</td>\n",
       "      <td>[kidney stones, overactive thyroid, iron-poor ...</td>\n",
       "    </tr>\n",
       "  </tbody>\n",
       "</table>\n",
       "</div>"
      ],
      "text/plain": [
       "                        question  \\\n",
       "0  walgreens store sales average   \n",
       "1    how much do bartenders make   \n",
       "2        what is a furuncle boil   \n",
       "3     what can urinalysis detect   \n",
       "4     what is vitamin a used for   \n",
       "\n",
       "                                       ground_truths  \\\n",
       "0                ['Approximately $15,000 per year.']   \n",
       "1  ['$21,550 per year'\\n 'The average hourly wage...   \n",
       "2  ['A boil, also called a furuncle, is a deep fo...   \n",
       "3  ['Detect and assess a wide range of disorders,...   \n",
       "4  ['Shigellosis, diseases of the nervous system,...   \n",
       "\n",
       "                                 hypothetical_answer  \\\n",
       "0  The average sales for Walgreens stores vary, a...   \n",
       "1  On average, bartenders in the US make about $1...   \n",
       "2  A furuncle, also known as a boil, is a skin in...   \n",
       "3  Urinalysis can detect various substances in ur...   \n",
       "4  Vitamin A is essential for maintaining healthy...   \n",
       "\n",
       "                                   reranked_contexts  \n",
       "0  [3 percent of sales, and returns on assets of ...  \n",
       "1  [to earn somewhat less, averaging about $22,13...  \n",
       "2  [called a furuncle, is a deep folliculitis, in...  \n",
       "3  [specimen cup. Usually only small amounts (30-...  \n",
       "4  [kidney stones, overactive thyroid, iron-poor ...  "
      ]
     },
     "execution_count": 8,
     "metadata": {},
     "output_type": "execute_result"
    }
   ],
   "source": [
    "%%time\n",
    "df['reranked_contexts'] = df.apply(lambda row: backend.perform_searchD(query=row['question'], hypothetical_answer=row['hypothetical_answer'], classname = 'Parent_child_chunks'), axis=1)\n",
    "df.head()"
   ]
  },
  {
   "cell_type": "code",
   "execution_count": 9,
   "metadata": {},
   "outputs": [],
   "source": [
    "df.to_csv('../output/SearchD_contexts.csv', index = False)"
   ]
  },
  {
   "cell_type": "code",
   "execution_count": null,
   "metadata": {},
   "outputs": [],
   "source": [
    "%%time\n",
    "df['answer'] = df.apply(lambda row : backend.generate_hyde_response(query=row['question'], context=row['reranked_contexts']), axis=1)\n",
    "df.head()"
   ]
  },
  {
   "cell_type": "code",
   "execution_count": 14,
   "metadata": {},
   "outputs": [],
   "source": [
    "df.to_csv('../output/SEARCHD_output.csv', index=False)"
   ]
  },
  {
   "cell_type": "markdown",
   "metadata": {},
   "source": [
    "### Evaluation using RAGAS"
   ]
  },
  {
   "cell_type": "code",
   "execution_count": 2,
   "metadata": {},
   "outputs": [],
   "source": [
    "from datasets import Dataset\n",
    "from evaluation.ragas_score import _get_ragas_score\n",
    "import warnings\n",
    "warnings.filterwarnings(\"ignore\")"
   ]
  },
  {
   "cell_type": "code",
   "execution_count": 3,
   "metadata": {},
   "outputs": [
    {
     "data": {
      "text/html": [
       "<div>\n",
       "<style scoped>\n",
       "    .dataframe tbody tr th:only-of-type {\n",
       "        vertical-align: middle;\n",
       "    }\n",
       "\n",
       "    .dataframe tbody tr th {\n",
       "        vertical-align: top;\n",
       "    }\n",
       "\n",
       "    .dataframe thead th {\n",
       "        text-align: right;\n",
       "    }\n",
       "</style>\n",
       "<table border=\"1\" class=\"dataframe\">\n",
       "  <thead>\n",
       "    <tr style=\"text-align: right;\">\n",
       "      <th></th>\n",
       "      <th>question</th>\n",
       "      <th>ground_truths</th>\n",
       "      <th>contexts</th>\n",
       "      <th>answer</th>\n",
       "    </tr>\n",
       "  </thead>\n",
       "  <tbody>\n",
       "    <tr>\n",
       "      <th>0</th>\n",
       "      <td>walgreens store sales average</td>\n",
       "      <td>[Approximately $15,000 per year.]</td>\n",
       "      <td>[3 percent of sales, and returns on assets of ...</td>\n",
       "      <td>According to the context provided, the averag...</td>\n",
       "    </tr>\n",
       "    <tr>\n",
       "      <th>1</th>\n",
       "      <td>how much do bartenders make</td>\n",
       "      <td>[$21,550 per yearThe average hourly wage for a...</td>\n",
       "      <td>[to earn somewhat less, averaging about $22,13...</td>\n",
       "      <td>According to the context provided, the averag...</td>\n",
       "    </tr>\n",
       "    <tr>\n",
       "      <th>2</th>\n",
       "      <td>what is a furuncle boil</td>\n",
       "      <td>[A boil, also called a furuncle, is a deep fol...</td>\n",
       "      <td>[called a furuncle, is a deep folliculitis, in...</td>\n",
       "      <td>A furuncle, also known as a boil, is a deep i...</td>\n",
       "    </tr>\n",
       "    <tr>\n",
       "      <th>3</th>\n",
       "      <td>what can urinalysis detect</td>\n",
       "      <td>[Detect and assess a wide range of disorders, ...</td>\n",
       "      <td>[specimen cup. Usually only small amounts (30-...</td>\n",
       "      <td>A urinalysis is a test used to evaluate a sam...</td>\n",
       "    </tr>\n",
       "    <tr>\n",
       "      <th>4</th>\n",
       "      <td>what is vitamin a used for</td>\n",
       "      <td>[Shigellosis, diseases of the nervous system, ...</td>\n",
       "      <td>[kidney stones, overactive thyroid, iron-poor ...</td>\n",
       "      <td>1. Vitamin A is used for treating vitamin A de...</td>\n",
       "    </tr>\n",
       "  </tbody>\n",
       "</table>\n",
       "</div>"
      ],
      "text/plain": [
       "                        question  \\\n",
       "0  walgreens store sales average   \n",
       "1    how much do bartenders make   \n",
       "2        what is a furuncle boil   \n",
       "3     what can urinalysis detect   \n",
       "4     what is vitamin a used for   \n",
       "\n",
       "                                       ground_truths  \\\n",
       "0                  [Approximately $15,000 per year.]   \n",
       "1  [$21,550 per yearThe average hourly wage for a...   \n",
       "2  [A boil, also called a furuncle, is a deep fol...   \n",
       "3  [Detect and assess a wide range of disorders, ...   \n",
       "4  [Shigellosis, diseases of the nervous system, ...   \n",
       "\n",
       "                                            contexts  \\\n",
       "0  [3 percent of sales, and returns on assets of ...   \n",
       "1  [to earn somewhat less, averaging about $22,13...   \n",
       "2  [called a furuncle, is a deep folliculitis, in...   \n",
       "3  [specimen cup. Usually only small amounts (30-...   \n",
       "4  [kidney stones, overactive thyroid, iron-poor ...   \n",
       "\n",
       "                                              answer  \n",
       "0   According to the context provided, the averag...  \n",
       "1   According to the context provided, the averag...  \n",
       "2   A furuncle, also known as a boil, is a deep i...  \n",
       "3   A urinalysis is a test used to evaluate a sam...  \n",
       "4  1. Vitamin A is used for treating vitamin A de...  "
      ]
     },
     "execution_count": 3,
     "metadata": {},
     "output_type": "execute_result"
    }
   ],
   "source": [
    "df=pd.read_csv('../output/SEARCHD_output.csv')\n",
    "df=df[['question', 'ground_truths', 'context_reranked','answer']]\n",
    "df.rename(columns={'context_reranked':'contexts'}, inplace=True)\n",
    "df[\"ground_truths\"] = [ast.literal_eval(gt) for gt in df[\"ground_truths\"]]\n",
    "df[\"contexts\"] = [ast.literal_eval(ctx) for ctx in df[\"contexts\"]]\n",
    "df.head()"
   ]
  },
  {
   "cell_type": "code",
   "execution_count": 4,
   "metadata": {},
   "outputs": [],
   "source": [
    "eval_data= Dataset.from_pandas(df, preserve_index=False)"
   ]
  },
  {
   "cell_type": "code",
   "execution_count": 5,
   "metadata": {},
   "outputs": [
    {
     "name": "stdout",
     "output_type": "stream",
     "text": [
      "evaluating with [faithfulness]\n"
     ]
    },
    {
     "name": "stderr",
     "output_type": "stream",
     "text": [
      "100%|██████████| 14/14 [05:15<00:00, 22.56s/it]\n"
     ]
    },
    {
     "name": "stdout",
     "output_type": "stream",
     "text": [
      "evaluating with [context_precision]\n"
     ]
    },
    {
     "name": "stderr",
     "output_type": "stream",
     "text": [
      "100%|██████████| 14/14 [05:56<00:00, 25.47s/it]\n"
     ]
    },
    {
     "name": "stdout",
     "output_type": "stream",
     "text": [
      "evaluating with [context_relevancy]\n"
     ]
    },
    {
     "name": "stderr",
     "output_type": "stream",
     "text": [
      "100%|██████████| 14/14 [01:49<00:00,  7.81s/it]\n"
     ]
    }
   ],
   "source": [
    "scores = _get_ragas_score(dataset=eval_data)"
   ]
  },
  {
   "cell_type": "code",
   "execution_count": 8,
   "metadata": {},
   "outputs": [
    {
     "name": "stdout",
     "output_type": "stream",
     "text": [
      "{'faithfulness': 1.0, 'context_precision': 0.9787, 'context_relevancy': 0.0998}\n"
     ]
    }
   ],
   "source": [
    "scores"
   ]
  }
 ],
 "metadata": {
  "kernelspec": {
   "display_name": "env",
   "language": "python",
   "name": "python3"
  },
  "language_info": {
   "codemirror_mode": {
    "name": "ipython",
    "version": 3
   },
   "file_extension": ".py",
   "mimetype": "text/x-python",
   "name": "python",
   "nbconvert_exporter": "python",
   "pygments_lexer": "ipython3",
   "version": "3.11.4"
  }
 },
 "nbformat": 4,
 "nbformat_minor": 2
}
